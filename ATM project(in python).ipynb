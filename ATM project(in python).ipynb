{
 "cells": [
  {
   "cell_type": "markdown",
   "metadata": {},
   "source": [
    "## ATM PROJECT"
   ]
  },
  {
   "cell_type": "code",
   "execution_count": null,
   "metadata": {},
   "outputs": [],
   "source": [
    "print('Welcome to th ATM machine.!')\n",
    "print('Rules:-')\n",
    "print(\"1. press d for debitting your cash\")\n",
    "print(\"2. press c for crediting your cash\")\n",
    "print(\"3. press a for checking your bank balence\")\n",
    "print(\"4. press e for exit\")\n",
    "x=input('enter your pin')\n",
    "print(\"ACCEPTED\")\n",
    "y=50000\n",
    "z=str(input('enter the option you want to access'))\n",
    "for i in range(0,1):\n",
    "    if z=='a':\n",
    "        print(\" your current bank balence is {}\".format(y))\n",
    "        break\n",
    "    elif z=='e':\n",
    "        print(\"THANKYOU\")\n",
    "        break\n",
    "    elif z=='c':\n",
    "        f=int(input(\"enter amount of money\"))\n",
    "        y=y+f\n",
    "        print(\"Do you want a recipt\")\n",
    "        g=str(input('enter Y or N'))\n",
    "        if g=='Y':\n",
    "            print(\"your current bank balence is {}\".format(y))\n",
    "        else:\n",
    "            print(\"THANKYOU\")\n",
    "    elif z=='d':\n",
    "        f=int(input(\"enter amount of money\"))\n",
    "        if f>y:\n",
    "            print(\"you cannot debit the amount you entered,your bank balence is not sufficient\")\n",
    "        else:\n",
    "            y=y-f\n",
    "            print(\"Do you want a recipt\")\n",
    "            g=str(input(\"enter Y or N\"))\n",
    "            if g=='Y':\n",
    "                print(\"your current bank ballence is {}\".format(y))\n",
    "            else:\n",
    "                print(\"THANKYOU\")\n",
    "    else:\n",
    "        print(\"No operation can be performed wrong input.\")\n",
    "        break\n",
    "    "
   ]
  }
 ],
 "metadata": {
  "kernelspec": {
   "display_name": "Python 3",
   "language": "python",
   "name": "python3"
  },
  "language_info": {
   "codemirror_mode": {
    "name": "ipython",
    "version": 3
   },
   "file_extension": ".py",
   "mimetype": "text/x-python",
   "name": "python",
   "nbconvert_exporter": "python",
   "pygments_lexer": "ipython3",
   "version": "3.7.6"
  }
 },
 "nbformat": 4,
 "nbformat_minor": 4
}
